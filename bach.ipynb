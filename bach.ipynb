{
 "cells": [
  {
   "cell_type": "code",
   "execution_count": 140,
   "metadata": {},
   "outputs": [],
   "source": [
    "import pandas as pd\n",
    "import wikipedia\n",
    "from bs4 import BeautifulSoup\n",
    "import urllib.request\n",
    "import numpy as np\n",
    "import re"
   ]
  },
  {
   "cell_type": "code",
   "execution_count": 70,
   "metadata": {},
   "outputs": [],
   "source": [
    "def bach(wik, page, head):\n",
    "    cols = ['season', 'dates', 'bachelor', 'winner', 'runner-up', 'proposal', 'together', 'notes', a]\n",
    "    bachelors = pd.DataFrame(columns=cols)\n",
    "    url = wik + page.replace(' ', '_')\n",
    "    req = urllib.request.urlopen(url)\n",
    "    article = req.read().decode()\n",
    "    data = []\n",
    "    \n",
    "    with open('ISO_3166-1_alpha-2.html', 'w', encoding='utf-8') as fo:\n",
    "        fo.write(article)\n",
    "        \n",
    "    html = open('ISO_3166-1_alpha-2.html', encoding='utf-8').read()\n",
    "    soup = BeautifulSoup(html, 'html.parser')\n",
    "    tables = soup.find_all('table')\n",
    "    \n",
    "    for t in tables:\n",
    "        ths = t.find_all('th')\n",
    "        headings = [th.text.strip() for th in ths]\n",
    "        \n",
    "        try:\n",
    "            if headings[:8] == head:\n",
    "                with open('iso_3166-1_alpha-2_codes.txt', 'w', encoding='utf-8') as fo:\n",
    "                    for tr in t.find_all('tr'):\n",
    "                        tds = tr.find_all('td')\n",
    "                        if not tds:\n",
    "                            continue\n",
    "                        data.append([td.text.strip() for td in tds[:8]])                      \n",
    "                ret_df = pd.DataFrame(data, columns = cols)\n",
    "                bachelors = bachelors.append(ret_df, sort=True)\n",
    "                            \n",
    "        except:\n",
    "            ret_df = pd.DataFrame(columns = cols)\n",
    "\n",
    "    bachelors = bachelors[bachelors['season'].apply(lambda x: x.isnumeric())]\n",
    "    \n",
    "    return bachelors"
   ]
  },
  {
   "cell_type": "code",
   "execution_count": 69,
   "metadata": {},
   "outputs": [],
   "source": [
    "def cont(wik, page, head):\n",
    "    cols = ['name', 'age', 'hometown', 'occupation', 'result'] \n",
    "    contestants = pd.DataFrame(columns = cols + ['season'])\n",
    "    \n",
    "    for p in range(len(page)):\n",
    "        url = wik + page[p].replace(' ', '_')\n",
    "        req = urllib.request.urlopen(url)\n",
    "        article = req.read().decode()\n",
    "        data = []\n",
    "\n",
    "        with open('ISO_3166-1_alpha-2.html', 'w', encoding='utf-8') as fo:\n",
    "            fo.write(article)\n",
    "\n",
    "        html = open('ISO_3166-1_alpha-2.html', encoding='utf-8').read()\n",
    "        soup = BeautifulSoup(html, 'html.parser')\n",
    "        tables = soup.find_all('table')\n",
    "\n",
    "        for t in tables:\n",
    "            ths = t.find_all('th')\n",
    "            headings = [th.text.strip() for th in ths]\n",
    "\n",
    "            try:\n",
    "                if headings[:3] == head:\n",
    "                    with open('iso_3166-1_alpha-2_codes.txt', 'w', encoding='utf-8') as fo:\n",
    "                        for tr in t.find_all('tr'):\n",
    "                            tds = tr.find_all('td')\n",
    "                            if not tds:\n",
    "                                continue\n",
    "                            data.append([td.text.strip() for td in tds[:5]])\n",
    "                    ret_df = pd.DataFrame(data, columns = cols)\n",
    "                    ret_df['season'] = page[p].split(' ')[3].split(')')[0]\n",
    "                    contestants = contestants.append(ret_df, sort=True)\n",
    "                            \n",
    "            except:\n",
    "                ret_df = pd.DataFrame(columns = cols + ['season'])\n",
    "                contestants = contestants.append(ret_df, sort=True)\n",
    "                \n",
    "    return contestants"
   ]
  },
  {
   "cell_type": "code",
   "execution_count": 231,
   "metadata": {},
   "outputs": [],
   "source": [
    "def age(page):\n",
    "    keys = ['year-old', 'year old', 'years-old', 'years old']\n",
    "    cols = ['season','age']\n",
    "    ages = pd.DataFrame(columns=cols)\n",
    "    data = []\n",
    "\n",
    "    for p in page:\n",
    "        content = wikipedia.WikipediaPage(title = p).summary\n",
    "        kw = [k for k in keys if k in content]\n",
    "        season = p.split(' ')[3].split(')')[0]\n",
    "\n",
    "        if len(kw) != 0:\n",
    "            if '-' in kw[0]:\n",
    "                age = content[content.index(kw[0])-3:content.index(kw[0])+4].split('-')[0]\n",
    "                data.append([season, age])\n",
    "                ret_df = pd.DataFrame(data, columns=cols)\n",
    "            else:\n",
    "                age = content[content.index(kw[0])-3:content.index(kw[0])+4].split(' ')[0]\n",
    "                data.append([season, age])\n",
    "                ret_df = pd.DataFrame(data, columns=cols)\n",
    "        else:\n",
    "            age = None\n",
    "            data.append([season, age])\n",
    "            ret_df = pd.DataFrame(data, columns=cols)\n",
    "            \n",
    "    return ages"
   ]
  },
  {
   "cell_type": "code",
   "execution_count": 84,
   "metadata": {},
   "outputs": [],
   "source": [
    "def rem_brack(d):\n",
    "    return d.apply(lambda x: x.str.replace(r\"\\[.*\\]\",\"\"))"
   ]
  },
  {
   "cell_type": "code",
   "execution_count": 67,
   "metadata": {},
   "outputs": [],
   "source": [
    "#create dataframes            \n",
    "wik = 'https://en.wikipedia.org/wiki/'\n",
    "bach_home = 'The Bachelor (American TV series)'\n",
    "bach_seasons = ['The Bachelor (season {})'.format(s) for s in list(range(1,25))]\n",
    "ette_home = 'The Bachelorette'\n",
    "ette_seasons = ['The Bachelorette (season {})'.format(s) for s in list(range(1,16))]\n",
    "hd_bach = ['#', 'Original run', 'Bachelor', 'Winner', 'Runner(s)-up', 'Proposal', 'Still together', 'Relationship notes']\n",
    "hd_ette = ['#', 'Original run', 'Bachelorette', 'Winner', 'Runner-up', 'Proposal', 'Still together', 'Relationship notes']\n",
    "hd_cont = ['Name', 'Age', 'Hometown']"
   ]
  },
  {
   "cell_type": "code",
   "execution_count": 209,
   "metadata": {},
   "outputs": [],
   "source": [
    "#bachelors\n",
    "bachelors = bach(wik, bach_home, hd_bach)"
   ]
  },
  {
   "cell_type": "code",
   "execution_count": 59,
   "metadata": {},
   "outputs": [],
   "source": [
    "#bachelor contestants\n",
    "bach_contestants = cont(wik, bach_seasons, hd_cont)"
   ]
  },
  {
   "cell_type": "code",
   "execution_count": 71,
   "metadata": {},
   "outputs": [],
   "source": [
    "#bachelorettes\n",
    "ettes = bach(wik, ette_home, hd_ette)"
   ]
  },
  {
   "cell_type": "code",
   "execution_count": 73,
   "metadata": {},
   "outputs": [],
   "source": [
    "#bachelorette contestants\n",
    "ette_contestants = cont(wik, ette_seasons, hd_cont)"
   ]
  },
  {
   "cell_type": "code",
   "execution_count": 87,
   "metadata": {},
   "outputs": [],
   "source": [
    "#add show type\n",
    "bachelors['type'] = 'Bachelor'\n",
    "bach_contestants['type'] = 'Bachelor'\n",
    "ettes['type'] = 'Bachelorette'\n",
    "ette_contestants['type'] = 'Bachelorette'"
   ]
  },
  {
   "cell_type": "code",
   "execution_count": 98,
   "metadata": {},
   "outputs": [],
   "source": [
    "#remove hyperlinks and concatenate dataframes\n",
    "leads = pd.DataFrame(columns=bachelors.columns)\n",
    "contestants = pd.DataFrame(columns=bach_contestants.columns)\n",
    "dfs = [bachelors, ettes, bach_contestants, ette_contestants]\n",
    "\n",
    "for d in dfs:\n",
    "    d = rem_brack(d)\n",
    "    \n",
    "    if 'result' in d.columns:\n",
    "        contestants = contestants.append(d)\n",
    "    else:\n",
    "        leads = leads.append(d)"
   ]
  }
 ],
 "metadata": {
  "kernelspec": {
   "display_name": "proj",
   "language": "python",
   "name": "proj"
  },
  "language_info": {
   "codemirror_mode": {
    "name": "ipython",
    "version": 3
   },
   "file_extension": ".py",
   "mimetype": "text/x-python",
   "name": "python",
   "nbconvert_exporter": "python",
   "pygments_lexer": "ipython3",
   "version": "3.6.6"
  }
 },
 "nbformat": 4,
 "nbformat_minor": 2
}
