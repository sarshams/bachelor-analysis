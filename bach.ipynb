{
 "cells": [
  {
   "cell_type": "code",
   "execution_count": 27,
   "metadata": {},
   "outputs": [],
   "source": [
    "import pandas as pd\n",
    "import wikipedia\n",
    "from bs4 import BeautifulSoup\n",
    "import urllib.request\n",
    "import numpy as np\n",
    "import re"
   ]
  },
  {
   "cell_type": "code",
   "execution_count": 28,
   "metadata": {},
   "outputs": [],
   "source": [
    "def get_lead_data(wik, page, head):\n",
    "    cols = ['season', 'dates', 'bachelor', 'winner', 'runner-up', 'proposal', 'together', 'notes']\n",
    "    bachelors = pd.DataFrame(columns=cols)\n",
    "    url = wik + page.replace(' ', '_')\n",
    "    req = urllib.request.urlopen(url)\n",
    "    article = req.read().decode()\n",
    "    data = []\n",
    "    \n",
    "    with open('ISO_3166-1_alpha-2.html', 'w', encoding='utf-8') as fo:\n",
    "        fo.write(article)\n",
    "        \n",
    "    html = open('ISO_3166-1_alpha-2.html', encoding='utf-8').read()\n",
    "    soup = BeautifulSoup(html, 'html.parser')\n",
    "    tables = soup.find_all('table')\n",
    "    \n",
    "    for t in tables:\n",
    "        ths = t.find_all('th')\n",
    "        headings = [th.text.strip() for th in ths]\n",
    "        \n",
    "        try:\n",
    "            if headings[:8] == head:\n",
    "                with open('iso_3166-1_alpha-2_codes.txt', 'w', encoding='utf-8') as fo:\n",
    "                    for tr in t.find_all('tr'):\n",
    "                        tds = tr.find_all('td')\n",
    "                        if not tds:\n",
    "                            continue\n",
    "                        data.append([td.text.strip() for td in tds[:8]])                      \n",
    "                ret_df = pd.DataFrame(data, columns = cols)\n",
    "                print(ret_df)\n",
    "                bachelors = bachelors.append(ret_df, sort=True)\n",
    "                            \n",
    "        except:\n",
    "            ret_df = pd.DataFrame(columns = cols)\n",
    "\n",
    "    bachelors = bachelors[bachelors['season'].apply(lambda x: x.isnumeric())]\n",
    "    \n",
    "    return bachelors"
   ]
  },
  {
   "cell_type": "code",
   "execution_count": 29,
   "metadata": {},
   "outputs": [],
   "source": [
    "def get_contestant_data(wik, page, head):\n",
    "    cols = ['name', 'age', 'hometown', 'occupation', 'result'] \n",
    "    contestants = pd.DataFrame(columns = cols + ['season'])\n",
    "    \n",
    "    for p in range(len(page)):\n",
    "        url = wik + page[p].replace(' ', '_')\n",
    "        req = urllib.request.urlopen(url)\n",
    "        article = req.read().decode()\n",
    "        data = []\n",
    "\n",
    "        with open('ISO_3166-1_alpha-2.html', 'w', encoding='utf-8') as fo:\n",
    "            fo.write(article)\n",
    "\n",
    "        html = open('ISO_3166-1_alpha-2.html', encoding='utf-8').read()\n",
    "        soup = BeautifulSoup(html, 'html.parser')\n",
    "        tables = soup.find_all('table')\n",
    "\n",
    "        for t in tables:\n",
    "            ths = t.find_all('th')\n",
    "            headings = [th.text.strip() for th in ths]\n",
    "\n",
    "            try:\n",
    "                if headings[:3] == head:\n",
    "                    with open('iso_3166-1_alpha-2_codes.txt', 'w', encoding='utf-8') as fo:\n",
    "                        for tr in t.find_all('tr'):\n",
    "                            tds = tr.find_all('td')\n",
    "                            if not tds:\n",
    "                                continue\n",
    "                            data.append([td.text.strip() for td in tds[:5]])\n",
    "                    ret_df = pd.DataFrame(data, columns = cols)\n",
    "                    ret_df['season'] = page[p].split(' ')[3].split(')')[0]\n",
    "                    contestants = contestants.append(ret_df, sort=True)\n",
    "                            \n",
    "            except:\n",
    "                ret_df = pd.DataFrame(columns = cols + ['season'])\n",
    "                contestants = contestants.append(ret_df, sort=True)\n",
    "                \n",
    "    return contestants"
   ]
  },
  {
   "cell_type": "code",
   "execution_count": 30,
   "metadata": {},
   "outputs": [],
   "source": [
    "def clean_age(page):\n",
    "    keys = ['year-old', 'year old', 'years-old', 'years old']\n",
    "    cols = ['season','age']\n",
    "    ages = pd.DataFrame(columns=cols)\n",
    "    data = []\n",
    "\n",
    "    for p in page:\n",
    "        content = wikipedia.WikipediaPage(title = p).summary\n",
    "        kw = [k for k in keys if k in content]\n",
    "        season = p.split(' ')[3].split(')')[0]\n",
    "\n",
    "        if len(kw) != 0:\n",
    "            if '-' in kw[0]:\n",
    "                age = content[content.index(kw[0])-3:content.index(kw[0])+4].split('-')[0]\n",
    "                data.append([season, age])\n",
    "                ret_df = pd.DataFrame(data, columns=cols)\n",
    "            else:\n",
    "                age = content[content.index(kw[0])-3:content.index(kw[0])+4].split(' ')[0]\n",
    "                data.append([season, age])\n",
    "                ret_df = pd.DataFrame(data, columns=cols)\n",
    "        else:\n",
    "            age = None\n",
    "            data.append([season, age])\n",
    "            ret_df = pd.DataFrame(data, columns=cols)\n",
    "            \n",
    "    return ages"
   ]
  },
  {
   "cell_type": "code",
   "execution_count": 31,
   "metadata": {},
   "outputs": [],
   "source": [
    "def remove_brackets(d):\n",
    "    return d.apply(lambda x: x.str.replace(r\"\\[.*\\]\",\"\"))"
   ]
  },
  {
   "cell_type": "code",
   "execution_count": 32,
   "metadata": {},
   "outputs": [],
   "source": [
    "#create dataframes            \n",
    "wiki = 'https://en.wikipedia.org/wiki/'\n",
    "bach_home = 'The Bachelor (American TV series)'\n",
    "bach_seasons = ['The Bachelor (season {})'.format(s) for s in list(range(1,25))]\n",
    "ette_home = 'The Bachelorette'\n",
    "ette_seasons = ['The Bachelorette (season {})'.format(s) for s in list(range(1,16))]\n",
    "bach_cols = ['#', 'Original run', 'Bachelor', 'Winner', 'Runner(s)-up', 'Proposal', 'Still together', 'Relationship notes']\n",
    "ette_cols = ['#', 'Original run', 'Bachelorette', 'Winner', 'Runner-up', 'Proposal', 'Still together', 'Relationship notes']\n",
    "contestant_cols = ['Name', 'Age', 'Hometown']"
   ]
  },
  {
   "cell_type": "code",
   "execution_count": 38,
   "metadata": {},
   "outputs": [
    {
     "data": {
      "text/plain": [
       "['The Bachelor (season 1)',\n",
       " 'The Bachelor (season 2)',\n",
       " 'The Bachelor (season 3)',\n",
       " 'The Bachelor (season 4)',\n",
       " 'The Bachelor (season 5)',\n",
       " 'The Bachelor (season 6)',\n",
       " 'The Bachelor (season 7)',\n",
       " 'The Bachelor (season 8)',\n",
       " 'The Bachelor (season 9)',\n",
       " 'The Bachelor (season 10)',\n",
       " 'The Bachelor (season 11)',\n",
       " 'The Bachelor (season 12)',\n",
       " 'The Bachelor (season 13)',\n",
       " 'The Bachelor (season 14)',\n",
       " 'The Bachelor (season 15)',\n",
       " 'The Bachelor (season 16)',\n",
       " 'The Bachelor (season 17)',\n",
       " 'The Bachelor (season 18)',\n",
       " 'The Bachelor (season 19)',\n",
       " 'The Bachelor (season 20)',\n",
       " 'The Bachelor (season 21)',\n",
       " 'The Bachelor (season 22)',\n",
       " 'The Bachelor (season 23)',\n",
       " 'The Bachelor (season 24)']"
      ]
     },
     "execution_count": 38,
     "metadata": {},
     "output_type": "execute_result"
    }
   ],
   "source": [
    "bach_seasons"
   ]
  },
  {
   "cell_type": "code",
   "execution_count": 33,
   "metadata": {},
   "outputs": [
    {
     "name": "stdout",
     "output_type": "stream",
     "text": [
      "           season                             dates                bachelor  \\\n",
      "0               1         March 25 – April 25, 2002             Alex Michel   \n",
      "1               2  September 25 – November 20, 2002            Aaron Buerge   \n",
      "2               3           March 24 – May 21, 2003        Andrew Firestone   \n",
      "3               4  September 24 – November 20, 2003              Bob Guiney   \n",
      "4               5            April 7 – May 26, 2004            Jesse Palmer   \n",
      "5               6  September 22 – November 24, 2004           Byron Velvick   \n",
      "6               7           March 28 – May 16, 2005       Charlie O'Connell   \n",
      "7               8     January 9 – February 27, 2006       Travis Lane Stork   \n",
      "8               9     October 2 – November 27, 2006        Lorenzo Borghese   \n",
      "9              10            April 2 – May 22, 2007          Andrew Baldwin   \n",
      "10             11  September 24 – November 20, 2007             Brad Womack   \n",
      "11  DeAnna Pappas                              None                    None   \n",
      "12             12           March 17 – May 12, 2008              Matt Grant   \n",
      "13             13         January 5 – March 3, 2009           Jason Mesnick   \n",
      "14             14         January 4 – March 1, 2010            Jake Pavelka   \n",
      "15             15        January 3 – March 14, 2011         Brad Womack[31]   \n",
      "16             16        January 2 – March 12, 2012         Ben Flajnik[33]   \n",
      "17             17    January 7 – March 11, 2013[35]           Sean Lowe[36]   \n",
      "18             18        January 6 – March 10, 2014  Juan Pablo Galavis[41]   \n",
      "19             19         January 5 – March 9, 2015        Chris Soules[43]   \n",
      "20             20    January 4 – March 14, 2016[45]             Ben Higgins   \n",
      "21             21    January 2 – March 13, 2017[47]          Nick Viall[48]   \n",
      "22             22         January 1 – March 6, 2018   Arie Luyendyk Jr.[50]   \n",
      "23             23        January 7 – March 12, 2019    Colton Underwood[56]   \n",
      "24  Tayshia Adams                              None                    None   \n",
      "25             24        January 6 – March 10, 2020         Peter Weber[61]   \n",
      "26             25               January 4, 2021[66]          Matt James[67]   \n",
      "\n",
      "                winner               runner-up proposal together  \\\n",
      "0         Amanda Marsh             Trista Rehn       No       No   \n",
      "1   Helene Eksterowicz            Brooke Smith      Yes       No   \n",
      "2          Jen Schefft     Kirsten Buschbacher      Yes       No   \n",
      "3    Estella Gardinier       Kelly Jo Kuharski       No       No   \n",
      "4       Jessica Bowlin        Tara Huckeby[13]       No       No   \n",
      "5         Mary Delgado            Tanya Michel      Yes       No   \n",
      "6          Sarah Brice         Krisily Kennedy       No       No   \n",
      "7          Sarah Stone             Moana Dixon       No       No   \n",
      "8      Jennifer Wilson            Sadie Murray       No       No   \n",
      "9          Tessa Horst     Bevin Nicole Powers      Yes       No   \n",
      "10                 N/A             Jenni Croft       No       No   \n",
      "11                None                    None     None     None   \n",
      "12        Shayne Lamas       Chelsea Wanstrath      Yes       No   \n",
      "13     Melissa Rycroft           Molly Malaney      Yes    No[a]   \n",
      "14      Vienna Girardi          Tenley Molzahn      Yes       No   \n",
      "15       Emily Maynard         Chantal O'Brien      Yes       No   \n",
      "16  Courtney Robertson              Lindzi Cox      Yes       No   \n",
      "17   Catherine Giudici          Lindsay Yenter      Yes      Yes   \n",
      "18       Nikki Ferrell           Clare Crawley       No       No   \n",
      "19    Whitney Bischoff            Becca Tilley      Yes       No   \n",
      "20     Lauren Bushnell  Joelle \"JoJo\" Fletcher      Yes       No   \n",
      "21    Vanessa Grimaldi             Raven Gates      Yes       No   \n",
      "22        Becca Kufrin          Lauren Burnham      Yes    No[b]   \n",
      "23     Cassie Randolph           Hannah Godwin       No       No   \n",
      "24                None                    None     None     None   \n",
      "25    Hannah Ann Sluss         Madison Prewett      Yes       No   \n",
      "26                 TBA                    None     None     None   \n",
      "\n",
      "                                                notes  \n",
      "0   Michel did not propose to Marsh, but instead t...  \n",
      "1   Buerge and Eksterowicz broke up after several ...  \n",
      "2   Schefft and Firestone broke up after several m...  \n",
      "3   Guiney did not propose to Gardinier, but she a...  \n",
      "4   Palmer did not propose to Bowlin. They continu...  \n",
      "5   Velvick and Jay Overbye started as two candida...  \n",
      "6   O'Connell chose Brice and did not propose but ...  \n",
      "7   Stork did not propose to Stone but instead beg...  \n",
      "8   Borghese did not propose to Wilson. They began...  \n",
      "9   Horst and Baldwin called off their engagement ...  \n",
      "10  Womack chose Croft and Pappas as the two final...  \n",
      "11                                               None  \n",
      "12         Grant and Lamas broke up in July 2008.[25]  \n",
      "13  On the season's finale, Mesnick had called off...  \n",
      "14  Pavelka and Girardi ended their relationship i...  \n",
      "15  Womack and Maynard broke up while their season...  \n",
      "16  Flajnik and Robertson originally broke up in F...  \n",
      "17  Lowe and Giudici married on January 26, 2014.[...  \n",
      "18  Galavis did not propose to Ferrell but instead...  \n",
      "19  Soules and Bischoff announced their break-up o...  \n",
      "20  Higgins and Bushnell had their own reality sho...  \n",
      "21  Viall and Grimaldi announced their breakup on ...  \n",
      "22  On the live season finale, it was revealed tha...  \n",
      "23  Randolph initially broke up with Underwood at ...  \n",
      "24                                               None  \n",
      "25  During the live After the Final Rose special, ...  \n",
      "26                                               None  \n"
     ]
    }
   ],
   "source": [
    "#bachelors\n",
    "bachelors = get_lead_data(wiki, bach_home, bach_cols)"
   ]
  },
  {
   "cell_type": "code",
   "execution_count": 34,
   "metadata": {},
   "outputs": [],
   "source": [
    "#bachelor contestants\n",
    "bach_contestants = get_contestant_data(wiki, bach_seasons, contestant_cols)"
   ]
  },
  {
   "cell_type": "code",
   "execution_count": 35,
   "metadata": {},
   "outputs": [],
   "source": [
    "#bachelorettes\n",
    "ettes = get_lead_data(wiki, ette_home, ette_cols)"
   ]
  },
  {
   "cell_type": "code",
   "execution_count": 36,
   "metadata": {},
   "outputs": [
    {
     "data": {
      "text/html": [
       "<div>\n",
       "<style scoped>\n",
       "    .dataframe tbody tr th:only-of-type {\n",
       "        vertical-align: middle;\n",
       "    }\n",
       "\n",
       "    .dataframe tbody tr th {\n",
       "        vertical-align: top;\n",
       "    }\n",
       "\n",
       "    .dataframe thead th {\n",
       "        text-align: right;\n",
       "    }\n",
       "</style>\n",
       "<table border=\"1\" class=\"dataframe\">\n",
       "  <thead>\n",
       "    <tr style=\"text-align: right;\">\n",
       "      <th></th>\n",
       "    </tr>\n",
       "  </thead>\n",
       "  <tbody>\n",
       "  </tbody>\n",
       "</table>\n",
       "</div>"
      ],
      "text/plain": [
       "Empty DataFrame\n",
       "Columns: []\n",
       "Index: []"
      ]
     },
     "execution_count": 36,
     "metadata": {},
     "output_type": "execute_result"
    }
   ],
   "source": [
    "ettes"
   ]
  },
  {
   "cell_type": "code",
   "execution_count": 73,
   "metadata": {},
   "outputs": [],
   "source": [
    "#bachelorette contestants\n",
    "ette_contestants = get_contestant_data(wiki, ette_seasons, contestant_cols)"
   ]
  },
  {
   "cell_type": "code",
   "execution_count": 87,
   "metadata": {},
   "outputs": [],
   "source": [
    "#add show type\n",
    "bachelors['type'] = 'Bachelor'\n",
    "bach_contestants['type'] = 'Bachelor'\n",
    "ettes['type'] = 'Bachelorette'\n",
    "ette_contestants['type'] = 'Bachelorette'"
   ]
  },
  {
   "cell_type": "code",
   "execution_count": 98,
   "metadata": {},
   "outputs": [],
   "source": [
    "#remove hyperlinks and concatenate dataframes\n",
    "leads = pd.DataFrame(columns=bachelors.columns)\n",
    "contestants = pd.DataFrame(columns=bach_contestants.columns)\n",
    "dfs = [bachelors, ettes, bach_contestants, ette_contestants]\n",
    "\n",
    "for d in dfs:\n",
    "    d = rem_brack(d)\n",
    "    \n",
    "    if 'result' in d.columns:\n",
    "        contestants = contestants.append(d)\n",
    "    else:\n",
    "        leads = leads.append(d)"
   ]
  }
 ],
 "metadata": {
  "kernelspec": {
   "display_name": "Python 3",
   "language": "python",
   "name": "python3"
  },
  "language_info": {
   "codemirror_mode": {
    "name": "ipython",
    "version": 3
   },
   "file_extension": ".py",
   "mimetype": "text/x-python",
   "name": "python",
   "nbconvert_exporter": "python",
   "pygments_lexer": "ipython3",
   "version": "3.8.3"
  }
 },
 "nbformat": 4,
 "nbformat_minor": 2
}
